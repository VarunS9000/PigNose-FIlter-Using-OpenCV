{
 "cells": [
  {
   "cell_type": "code",
   "execution_count": 2,
   "metadata": {},
   "outputs": [],
   "source": [
    "import dlib\n",
    "import numpy as np\n",
    "import cv2\n",
    "from math import hypot\n",
    "\n",
    "cap = cv2.VideoCapture(0)\n",
    "noseImage = cv2.imread(\"piggy.png\")\n",
    "\n",
    "detector = dlib.get_frontal_face_detector()\n",
    "predictor = dlib.shape_predictor(\"shape_predictor_68_face_landmarks.dat\") #google for this file and download it from github.\n",
    "\n",
    "while True:\n",
    "    _, frame = cap.read()\n",
    "    gray = cv2.cvtColor(frame, cv2.COLOR_BGR2GRAY)\n",
    "    \n",
    "    faces = detector(gray)\n",
    "    \n",
    "    for face in faces:\n",
    "        landmarks = predictor(gray, face)\n",
    "        topNose = (landmarks.part(29).x,landmarks.part(29).y)\n",
    "        #cv2.circle(frame, topNose, 5, (0,0,255), -1)\n",
    "        leftNose = (landmarks.part(31).x,landmarks.part(31).y)\n",
    "        rightNose = (landmarks.part(35).x,landmarks.part(35).y)\n",
    "        centerNose = (landmarks.part(30).x,landmarks.part(30).y)\n",
    "        noseWidth = int(hypot(leftNose[0] - rightNose[0],\n",
    "                          leftNose[1] - rightNose[1]) * 1.7)\n",
    "        noseHeight = noseWidth \n",
    "        \n",
    "        topLeft = (int(centerNose[0]-noseWidth/2),int(centerNose[1]-noseHeight/2))\n",
    "        bttomRight = (int(centerNose[0]+noseWidth/2),int(centerNose[1]+noseHeight/2))\n",
    "        \n",
    "        pigImage = cv2.resize(noseImage, (noseWidth,noseHeight))\n",
    "        pigImageGray = cv2.cvtColor(pigImage, cv2.COLOR_BGR2GRAY)\n",
    "        _, noseMask = cv2.threshold(pigImageGray, 25, 255, cv2.THRESH_BINARY_INV)\n",
    "        \n",
    "        noseArea = frame[topLeft[1] : topLeft[1] + noseHeight,\n",
    "                         topLeft[0] : topLeft[0] + noseWidth]  \n",
    "        noseAreaNoNose = cv2.bitwise_and(noseArea,noseArea, mask = noseMask)\n",
    "        finalNose = cv2.add(noseAreaNoNose,pigImage)\n",
    "        \n",
    "        frame[topLeft[1] : topLeft[1] + noseHeight,\n",
    "                         topLeft[0] : topLeft[0] + noseWidth]  = finalNose\n",
    "        \n",
    "        cv2.imshow(\"nose area\", noseArea)\n",
    "        cv2.imshow(\"pig nose\",pigImage)\n",
    "        cv2.imshow(\"final nose\",finalNose)             \n",
    "        \n",
    "        \n",
    "    cv2.imshow(\"frame\", frame)\n",
    "        \n",
    "    key = cv2.waitKey(1)\n",
    "    if key == 27:\n",
    "        cap.release()\n",
    "        cv2.destroyAllWindows()\n",
    "        break"
   ]
  },
  {
   "cell_type": "code",
   "execution_count": null,
   "metadata": {},
   "outputs": [],
   "source": []
  }
 ],
 "metadata": {
  "kernelspec": {
   "display_name": "Python 3",
   "language": "python",
   "name": "python3"
  },
  "language_info": {
   "codemirror_mode": {
    "name": "ipython",
    "version": 3
   },
   "file_extension": ".py",
   "mimetype": "text/x-python",
   "name": "python",
   "nbconvert_exporter": "python",
   "pygments_lexer": "ipython3",
   "version": "3.8.3"
  }
 },
 "nbformat": 4,
 "nbformat_minor": 4
}
